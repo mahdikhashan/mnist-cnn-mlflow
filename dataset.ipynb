{
 "cells": [
  {
   "cell_type": "code",
   "id": "initial_id",
   "metadata": {
    "collapsed": true,
    "ExecuteTime": {
     "end_time": "2024-11-13T16:09:49.175143Z",
     "start_time": "2024-11-13T16:09:49.161578Z"
    }
   },
   "source": [
    "from pprint import pprint\n",
    "\n",
    "import torchvision\n",
    "from torchvision import transforms"
   ],
   "outputs": [],
   "execution_count": 156
  },
  {
   "metadata": {
    "ExecuteTime": {
     "end_time": "2024-11-12T17:55:30.413295Z",
     "start_time": "2024-11-12T17:52:48.483147Z"
    }
   },
   "cell_type": "code",
   "source": [
    "data = \"./data\"\n",
    "train_data = torchvision.datasets.MNIST(data, train=True, download=True)\n",
    "test_data = torchvision.datasets.MNIST(data, train=False)"
   ],
   "id": "30b2281bb7e7221c",
   "outputs": [
    {
     "name": "stdout",
     "output_type": "stream",
     "text": [
      "Downloading http://yann.lecun.com/exdb/mnist/train-images-idx3-ubyte.gz\n",
      "Failed to download (trying next):\n",
      "HTTP Error 403: Forbidden\n",
      "\n",
      "Downloading https://ossci-datasets.s3.amazonaws.com/mnist/train-images-idx3-ubyte.gz\n",
      "Downloading https://ossci-datasets.s3.amazonaws.com/mnist/train-images-idx3-ubyte.gz to ./data/MNIST/raw/train-images-idx3-ubyte.gz\n"
     ]
    },
    {
     "name": "stderr",
     "output_type": "stream",
     "text": [
      "100.0%\n"
     ]
    },
    {
     "name": "stdout",
     "output_type": "stream",
     "text": [
      "Extracting ./data/MNIST/raw/train-images-idx3-ubyte.gz to ./data/MNIST/raw\n",
      "\n",
      "Downloading http://yann.lecun.com/exdb/mnist/train-labels-idx1-ubyte.gz\n",
      "Failed to download (trying next):\n",
      "HTTP Error 403: Forbidden\n",
      "\n",
      "Downloading https://ossci-datasets.s3.amazonaws.com/mnist/train-labels-idx1-ubyte.gz\n",
      "Downloading https://ossci-datasets.s3.amazonaws.com/mnist/train-labels-idx1-ubyte.gz to ./data/MNIST/raw/train-labels-idx1-ubyte.gz\n"
     ]
    },
    {
     "name": "stderr",
     "output_type": "stream",
     "text": [
      "100.0%\n"
     ]
    },
    {
     "name": "stdout",
     "output_type": "stream",
     "text": [
      "Extracting ./data/MNIST/raw/train-labels-idx1-ubyte.gz to ./data/MNIST/raw\n",
      "\n",
      "Downloading http://yann.lecun.com/exdb/mnist/t10k-images-idx3-ubyte.gz\n",
      "Failed to download (trying next):\n",
      "HTTP Error 403: Forbidden\n",
      "\n",
      "Downloading https://ossci-datasets.s3.amazonaws.com/mnist/t10k-images-idx3-ubyte.gz\n",
      "Downloading https://ossci-datasets.s3.amazonaws.com/mnist/t10k-images-idx3-ubyte.gz to ./data/MNIST/raw/t10k-images-idx3-ubyte.gz\n"
     ]
    },
    {
     "name": "stderr",
     "output_type": "stream",
     "text": [
      "100.0%\n"
     ]
    },
    {
     "name": "stdout",
     "output_type": "stream",
     "text": [
      "Extracting ./data/MNIST/raw/t10k-images-idx3-ubyte.gz to ./data/MNIST/raw\n",
      "\n",
      "Downloading http://yann.lecun.com/exdb/mnist/t10k-labels-idx1-ubyte.gz\n",
      "Failed to download (trying next):\n",
      "HTTP Error 403: Forbidden\n",
      "\n",
      "Downloading https://ossci-datasets.s3.amazonaws.com/mnist/t10k-labels-idx1-ubyte.gz\n",
      "Downloading https://ossci-datasets.s3.amazonaws.com/mnist/t10k-labels-idx1-ubyte.gz to ./data/MNIST/raw/t10k-labels-idx1-ubyte.gz\n"
     ]
    },
    {
     "name": "stderr",
     "output_type": "stream",
     "text": [
      "100.0%"
     ]
    },
    {
     "name": "stdout",
     "output_type": "stream",
     "text": [
      "Extracting ./data/MNIST/raw/t10k-labels-idx1-ubyte.gz to ./data/MNIST/raw\n",
      "\n"
     ]
    },
    {
     "name": "stderr",
     "output_type": "stream",
     "text": [
      "\n"
     ]
    }
   ],
   "execution_count": 5
  },
  {
   "metadata": {
    "ExecuteTime": {
     "end_time": "2024-11-12T17:58:14.816955Z",
     "start_time": "2024-11-12T17:58:13.164053Z"
    }
   },
   "cell_type": "code",
   "source": "from matplotlib.pyplot import imshow",
   "id": "85430cf0a702c369",
   "outputs": [],
   "execution_count": 6
  },
  {
   "metadata": {
    "ExecuteTime": {
     "end_time": "2024-11-12T17:59:47.458023Z",
     "start_time": "2024-11-12T17:59:47.402005Z"
    }
   },
   "cell_type": "code",
   "source": "x_samples, y_samples = train_data[0]",
   "id": "296fc5f7812fcf5a",
   "outputs": [],
   "execution_count": 7
  },
  {
   "metadata": {
    "ExecuteTime": {
     "end_time": "2024-11-12T17:59:53.894238Z",
     "start_time": "2024-11-12T17:59:53.884686Z"
    }
   },
   "cell_type": "code",
   "source": "x_samples",
   "id": "29391705211edf3f",
   "outputs": [
    {
     "data": {
      "text/plain": [
       "<PIL.Image.Image image mode=L size=28x28>"
      ],
      "image/png": "[encoded data removed]",
      "image/jpeg": "[encoded data removed]"
     },
     "execution_count": 9,
     "metadata": {},
     "output_type": "execute_result"
    }
   ],
   "execution_count": 9
  },
  {
   "metadata": {
    "ExecuteTime": {
     "end_time": "2024-11-12T17:59:59.550773Z",
     "start_time": "2024-11-12T17:59:59.544787Z"
    }
   },
   "cell_type": "code",
   "source": "y_samples",
   "id": "9642b254b8475f20",
   "outputs": [
    {
     "data": {
      "text/plain": [
       "5"
      ]
     },
     "execution_count": 10,
     "metadata": {},
     "output_type": "execute_result"
    }
   ],
   "execution_count": 10
  },
  {
   "metadata": {
    "ExecuteTime": {
     "end_time": "2024-11-12T18:00:44.635388Z",
     "start_time": "2024-11-12T18:00:44.581163Z"
    }
   },
   "cell_type": "code",
   "source": "x_samples.shape",
   "id": "f78dcdf79b6664e1",
   "outputs": [
    {
     "ename": "AttributeError",
     "evalue": "'Image' object has no attribute 'shape'",
     "output_type": "error",
     "traceback": [
      "\u001B[0;31m---------------------------------------------------------------------------\u001B[0m",
      "\u001B[0;31mAttributeError\u001B[0m                            Traceback (most recent call last)",
      "Cell \u001B[0;32mIn[15], line 1\u001B[0m\n\u001B[0;32m----> 1\u001B[0m x_samples\u001B[38;5;241m.\u001B[39mshape\n",
      "\u001B[0;31mAttributeError\u001B[0m: 'Image' object has no attribute 'shape'"
     ]
    }
   ],
   "execution_count": 15
  },
  {
   "metadata": {
    "ExecuteTime": {
     "end_time": "2024-11-12T18:00:33.850083Z",
     "start_time": "2024-11-12T18:00:33.741410Z"
    }
   },
   "cell_type": "code",
   "source": "imshow(x_samples)",
   "id": "3f86375e1a454706",
   "outputs": [
    {
     "data": {
      "text/plain": [
       "<matplotlib.image.AxesImage at 0x1650634d0>"
      ]
     },
     "execution_count": 14,
     "metadata": {},
     "output_type": "execute_result"
    },
    {
     "data": {
      "text/plain": [
       "<Figure size 640x480 with 1 Axes>"
      ],
      "image/png": "[encoded data removed]"
     },
     "metadata": {},
     "output_type": "display_data"
    }
   ],
   "execution_count": 14
  },
  {
   "metadata": {
    "ExecuteTime": {
     "end_time": "2024-11-12T18:05:11.189371Z",
     "start_time": "2024-11-12T18:05:11.164021Z"
    }
   },
   "cell_type": "code",
   "source": "image_to_tensor = transforms.Compose([transforms.ToTensor()])",
   "id": "58769e837d3ec793",
   "outputs": [],
   "execution_count": 16
  },
  {
   "metadata": {
    "ExecuteTime": {
     "end_time": "2024-11-12T18:05:43.123968Z",
     "start_time": "2024-11-12T18:05:43.067013Z"
    }
   },
   "cell_type": "code",
   "source": "tensor_sample = image_to_tensor(x_samples)",
   "id": "d1a1fb0470235414",
   "outputs": [],
   "execution_count": 18
  },
  {
   "metadata": {
    "ExecuteTime": {
     "end_time": "2024-11-12T18:05:54.364103Z",
     "start_time": "2024-11-12T18:05:54.355287Z"
    }
   },
   "cell_type": "code",
   "source": "tensor_sample.shape",
   "id": "1b0fe09d3240977b",
   "outputs": [
    {
     "data": {
      "text/plain": [
       "torch.Size([1, 28, 28])"
      ]
     },
     "execution_count": 20,
     "metadata": {},
     "output_type": "execute_result"
    }
   ],
   "execution_count": 20
  },
  {
   "metadata": {
    "ExecuteTime": {
     "end_time": "2024-11-12T18:06:34.505545Z",
     "start_time": "2024-11-12T18:06:34.380365Z"
    }
   },
   "cell_type": "code",
   "source": "imshow(tensor_sample[0,:], cmap='gray')",
   "id": "b7054b0a210b598c",
   "outputs": [
    {
     "data": {
      "text/plain": [
       "<matplotlib.image.AxesImage at 0x165112950>"
      ]
     },
     "execution_count": 21,
     "metadata": {},
     "output_type": "execute_result"
    },
    {
     "data": {
      "text/plain": [
       "<Figure size 640x480 with 1 Axes>"
      ],
      "image/png": "[encoded data removed]"
     },
     "metadata": {},
     "output_type": "display_data"
    }
   ],
   "execution_count": 21
  },
  {
   "metadata": {
    "ExecuteTime": {
     "end_time": "2024-11-12T18:11:40.590807Z",
     "start_time": "2024-11-12T18:11:40.566533Z"
    }
   },
   "cell_type": "code",
   "source": "x1, x2, x3 = train_data[0], train_data[1], train_data[2]",
   "id": "3571311e29e69651",
   "outputs": [],
   "execution_count": 24
  },
  {
   "metadata": {
    "ExecuteTime": {
     "end_time": "2024-11-12T18:14:01.157573Z",
     "start_time": "2024-11-12T18:14:01.144532Z"
    }
   },
   "cell_type": "code",
   "source": "x1 = image_to_tensor(x1)",
   "id": "d7d77845070ab3a3",
   "outputs": [],
   "execution_count": 38
  },
  {
   "metadata": {
    "ExecuteTime": {
     "end_time": "2024-11-12T18:14:03.989575Z",
     "start_time": "2024-11-12T18:14:03.984132Z"
    }
   },
   "cell_type": "code",
   "source": "x2 = image_to_tensor(x2)",
   "id": "5f0e6be2c3655817",
   "outputs": [],
   "execution_count": 39
  },
  {
   "metadata": {
    "ExecuteTime": {
     "end_time": "2024-11-12T18:14:06.613628Z",
     "start_time": "2024-11-12T18:14:06.609736Z"
    }
   },
   "cell_type": "code",
   "source": "x3 = image_to_tensor(x3)",
   "id": "52e7e331c404aaee",
   "outputs": [],
   "execution_count": 40
  },
  {
   "metadata": {
    "ExecuteTime": {
     "end_time": "2024-11-12T18:12:29.168727Z",
     "start_time": "2024-11-12T18:12:29.162097Z"
    }
   },
   "cell_type": "code",
   "source": "import torch",
   "id": "3bf670ef9d20ba90",
   "outputs": [],
   "execution_count": 31
  },
  {
   "metadata": {
    "ExecuteTime": {
     "end_time": "2024-11-12T18:14:10.061259Z",
     "start_time": "2024-11-12T18:14:10.054910Z"
    }
   },
   "cell_type": "code",
   "source": "x_as_color = torch.stack([x1[0, :], x2[0, :], x3[0, :]], dim=0)",
   "id": "490bb924627354f2",
   "outputs": [],
   "execution_count": 41
  },
  {
   "metadata": {
    "ExecuteTime": {
     "end_time": "2024-11-13T05:20:35.825136Z",
     "start_time": "2024-11-13T05:20:35.545912Z"
    }
   },
   "cell_type": "code",
   "source": "imshow(x_as_color.permute(1, 2, 0))",
   "id": "5a88e35a7fae9193",
   "outputs": [
    {
     "data": {
      "text/plain": [
       "<matplotlib.image.AxesImage at 0x304d8fdd0>"
      ]
     },
     "execution_count": 46,
     "metadata": {},
     "output_type": "execute_result"
    },
    {
     "data": {
      "text/plain": [
       "<Figure size 640x480 with 1 Axes>"
      ],
      "image/png": "[encoded data removed]"
     },
     "metadata": {},
     "output_type": "display_data"
    }
   ],
   "execution_count": 46
  },
  {
   "metadata": {
    "ExecuteTime": {
     "end_time": "2024-11-13T05:34:03.328063Z",
     "start_time": "2024-11-13T05:34:03.325387Z"
    }
   },
   "cell_type": "code",
   "source": "filter = [1, 0, -1]",
   "id": "5bf0a45f20f3ae5e",
   "outputs": [],
   "execution_count": 83
  },
  {
   "metadata": {
    "ExecuteTime": {
     "end_time": "2024-11-13T05:34:03.592613Z",
     "start_time": "2024-11-13T05:34:03.589393Z"
    }
   },
   "cell_type": "code",
   "source": "input = [1, 0, 2, -1, 1, 2]",
   "id": "40e52257f9bccdc6",
   "outputs": [],
   "execution_count": 84
  },
  {
   "metadata": {
    "ExecuteTime": {
     "end_time": "2024-11-13T05:34:03.811704Z",
     "start_time": "2024-11-13T05:34:03.809711Z"
    }
   },
   "cell_type": "code",
   "source": "output = []",
   "id": "eac57dbb45cfe7e1",
   "outputs": [],
   "execution_count": 85
  },
  {
   "metadata": {
    "ExecuteTime": {
     "end_time": "2024-11-13T05:34:04.145341Z",
     "start_time": "2024-11-13T05:34:04.142098Z"
    }
   },
   "cell_type": "code",
   "source": [
    "for i in range(len(input) - 2 * (len(filter) // 2)):\n",
    "    result = 0\n",
    "    for j in range(len(filter)):\n",
    "        result += input[i+j] * filter[j]\n",
    "    output.append(result)"
   ],
   "id": "c3348d243f38e828",
   "outputs": [],
   "execution_count": 86
  },
  {
   "metadata": {
    "ExecuteTime": {
     "end_time": "2024-11-13T05:34:04.762902Z",
     "start_time": "2024-11-13T05:34:04.757857Z"
    }
   },
   "cell_type": "code",
   "source": "len(output)",
   "id": "e35f5a852926aec2",
   "outputs": [
    {
     "data": {
      "text/plain": [
       "4"
      ]
     },
     "execution_count": 87,
     "metadata": {},
     "output_type": "execute_result"
    }
   ],
   "execution_count": 87
  },
  {
   "metadata": {
    "ExecuteTime": {
     "end_time": "2024-11-13T05:34:05.316432Z",
     "start_time": "2024-11-13T05:34:05.311824Z"
    }
   },
   "cell_type": "code",
   "source": "output",
   "id": "ab542ead0bdae639",
   "outputs": [
    {
     "data": {
      "text/plain": [
       "[-1, 1, 1, -3]"
      ]
     },
     "execution_count": 88,
     "metadata": {},
     "output_type": "execute_result"
    }
   ],
   "execution_count": 88
  },
  {
   "metadata": {},
   "cell_type": "markdown",
   "source": "### 2D convolution",
   "id": "9a9084d1bd670947"
  },
  {
   "metadata": {
    "ExecuteTime": {
     "end_time": "2024-11-13T15:32:06.250398Z",
     "start_time": "2024-11-13T15:32:06.216102Z"
    }
   },
   "cell_type": "code",
   "source": [
    "filter = [[0, 1, 0], [0, 1, 0], [0, 1, 0]]\n",
    "input = [\n",
    "    [0, 0, 1, 1, 0, 0],\n",
    "    [0, 1, 0, 1, 0, 0],\n",
    "    [0, 0, 0, 1, 0, 0],\n",
    "    [0, 0, 0, 1, 0, 0],\n",
    "    [0, 0, 0, 1, 1, 0],\n",
    "    [0, 1, 1, 1, 1, 1]\n",
    "]"
   ],
   "id": "1594408d1d32acc9",
   "outputs": [],
   "execution_count": 90
  },
  {
   "metadata": {
    "ExecuteTime": {
     "end_time": "2024-11-13T15:39:49.438367Z",
     "start_time": "2024-11-13T15:39:49.430591Z"
    }
   },
   "cell_type": "code",
   "source": "output = []",
   "id": "c37d959ab9a0d20e",
   "outputs": [],
   "execution_count": 98
  },
  {
   "metadata": {
    "ExecuteTime": {
     "end_time": "2024-11-13T15:39:49.721059Z",
     "start_time": "2024-11-13T15:39:49.715995Z"
    }
   },
   "cell_type": "code",
   "source": "h, w = len(input), len(input[0])",
   "id": "ef2655a7546154c2",
   "outputs": [],
   "execution_count": 99
  },
  {
   "metadata": {
    "ExecuteTime": {
     "end_time": "2024-11-13T15:39:49.991042Z",
     "start_time": "2024-11-13T15:39:49.987370Z"
    }
   },
   "cell_type": "code",
   "source": "h, w",
   "id": "fe718b251e849528",
   "outputs": [
    {
     "data": {
      "text/plain": [
       "(6, 6)"
      ]
     },
     "execution_count": 100,
     "metadata": {},
     "output_type": "execute_result"
    }
   ],
   "execution_count": 100
  },
  {
   "metadata": {
    "ExecuteTime": {
     "end_time": "2024-11-13T15:39:50.447022Z",
     "start_time": "2024-11-13T15:39:50.438297Z"
    }
   },
   "cell_type": "code",
   "source": [
    "for i in range(h - len(filter) + 1):\n",
    "    row_out = []\n",
    "    for j in range(w - len(filter) + 1):\n",
    "        result = 0\n",
    "        for k_i in range(len(filter)):\n",
    "            for k_j in range(len(filter)):\n",
    "                result += input[i + k_i][j + k_j] * filter[k_i][k_j]\n",
    "        row_out.append(result)\n",
    "    output.append(row_out)"
   ],
   "id": "95d93f2f479aef1a",
   "outputs": [],
   "execution_count": 101
  },
  {
   "metadata": {
    "ExecuteTime": {
     "end_time": "2024-11-13T16:00:02.703588Z",
     "start_time": "2024-11-13T16:00:02.670848Z"
    }
   },
   "cell_type": "code",
   "source": "output",
   "id": "9b4591e226c1bd6d",
   "outputs": [
    {
     "data": {
      "text/plain": [
       "[[1, 1, 3, 0], [1, 0, 3, 0], [0, 0, 3, 1], [1, 1, 3, 2]]"
      ]
     },
     "execution_count": 103,
     "metadata": {},
     "output_type": "execute_result"
    }
   ],
   "execution_count": 103
  },
  {
   "metadata": {
    "ExecuteTime": {
     "end_time": "2024-11-13T16:00:23.091468Z",
     "start_time": "2024-11-13T16:00:19.482118Z"
    }
   },
   "cell_type": "code",
   "source": "from scipy.signal import convolve",
   "id": "ef652cc3f2d1d7ac",
   "outputs": [],
   "execution_count": 104
  },
  {
   "metadata": {
    "ExecuteTime": {
     "end_time": "2024-11-13T16:00:32.813853Z",
     "start_time": "2024-11-13T16:00:32.799876Z"
    }
   },
   "cell_type": "code",
   "source": "img_index = 58",
   "id": "64270eea793d4c05",
   "outputs": [],
   "execution_count": 105
  },
  {
   "metadata": {
    "ExecuteTime": {
     "end_time": "2024-11-13T16:02:06.175458Z",
     "start_time": "2024-11-13T16:02:06.167087Z"
    }
   },
   "cell_type": "code",
   "source": "img = train_data[img_index][0]",
   "id": "eef76ccf113a802f",
   "outputs": [],
   "execution_count": 113
  },
  {
   "metadata": {
    "ExecuteTime": {
     "end_time": "2024-11-13T16:02:07.099642Z",
     "start_time": "2024-11-13T16:02:07.091289Z"
    }
   },
   "cell_type": "code",
   "source": "img",
   "id": "b6da133857c3ceb0",
   "outputs": [
    {
     "data": {
      "text/plain": [
       "<PIL.Image.Image image mode=L size=28x28>"
      ],
      "image/png": "[encoded data removed]",
      "image/jpeg": "[encoded data removed]"
     },
     "execution_count": 114,
     "metadata": {},
     "output_type": "execute_result"
    }
   ],
   "execution_count": 114
  },
  {
   "metadata": {
    "ExecuteTime": {
     "end_time": "2024-11-13T16:02:23.904646Z",
     "start_time": "2024-11-13T16:02:23.838792Z"
    }
   },
   "cell_type": "code",
   "source": "imshow(img, cmap='gray')",
   "id": "f384ac026e9b31c4",
   "outputs": [
    {
     "data": {
      "text/plain": [
       "<matplotlib.image.AxesImage at 0x306049990>"
      ]
     },
     "execution_count": 117,
     "metadata": {},
     "output_type": "execute_result"
    },
    {
     "data": {
      "text/plain": [
       "<Figure size 640x480 with 1 Axes>"
      ],
      "image/png": "[encoded data removed]"
     },
     "metadata": {},
     "output_type": "display_data"
    }
   ],
   "execution_count": 117
  },
  {
   "metadata": {
    "ExecuteTime": {
     "end_time": "2024-11-13T16:03:29.259681Z",
     "start_time": "2024-11-13T16:03:29.226875Z"
    }
   },
   "cell_type": "code",
   "source": "import numpy as np",
   "id": "84803cf29af645f4",
   "outputs": [],
   "execution_count": 118
  },
  {
   "metadata": {
    "ExecuteTime": {
     "end_time": "2024-11-13T16:03:29.759482Z",
     "start_time": "2024-11-13T16:03:29.756674Z"
    }
   },
   "cell_type": "code",
   "source": [
    "blur_filter = np.asarray([\n",
    "    [1, 1, 1],\n",
    "    [1, 1, 1],\n",
    "    [1, 1, 1],\n",
    "]) / 9.0"
   ],
   "id": "b252a188371f3ecd",
   "outputs": [],
   "execution_count": 119
  },
  {
   "metadata": {
    "ExecuteTime": {
     "end_time": "2024-11-13T16:03:43.861745Z",
     "start_time": "2024-11-13T16:03:43.840673Z"
    }
   },
   "cell_type": "code",
   "source": "blured_img = convolve(img, blur_filter)",
   "id": "1e2490961eb3dd86",
   "outputs": [],
   "execution_count": 120
  },
  {
   "metadata": {
    "ExecuteTime": {
     "end_time": "2024-11-13T16:06:30.696856Z",
     "start_time": "2024-11-13T16:06:30.635144Z"
    }
   },
   "cell_type": "code",
   "source": "imshow(blured_img, cmap='gray')",
   "id": "9050741691365413",
   "outputs": [
    {
     "data": {
      "text/plain": [
       "<matplotlib.image.AxesImage at 0x30648a6d0>"
      ]
     },
     "execution_count": 131,
     "metadata": {},
     "output_type": "execute_result"
    },
    {
     "data": {
      "text/plain": [
       "<Figure size 640x480 with 1 Axes>"
      ],
      "image/png": "[encoded data removed]"
     },
     "metadata": {},
     "output_type": "display_data"
    }
   ],
   "execution_count": 131
  },
  {
   "metadata": {
    "ExecuteTime": {
     "end_time": "2024-11-13T16:10:46.575583Z",
     "start_time": "2024-11-13T16:10:46.566795Z"
    }
   },
   "cell_type": "code",
   "source": [
    "edge_filter = np.asarray([\n",
    "    [-1, -1, -1],\n",
    "    [-1, 8, -1],\n",
    "    [-1, -1, -1],\n",
    "])"
   ],
   "id": "ee368569c97b2e4d",
   "outputs": [],
   "execution_count": 157
  },
  {
   "metadata": {
    "ExecuteTime": {
     "end_time": "2024-11-13T16:10:46.786640Z",
     "start_time": "2024-11-13T16:10:46.780137Z"
    }
   },
   "cell_type": "code",
   "source": "edge_img = convolve(img, edge_filter)",
   "id": "9b7ec91e1030d78d",
   "outputs": [],
   "execution_count": 158
  },
  {
   "metadata": {
    "ExecuteTime": {
     "end_time": "2024-11-13T16:10:47.093965Z",
     "start_time": "2024-11-13T16:10:47.022165Z"
    }
   },
   "cell_type": "code",
   "source": "imshow(edge_img, vmin=0, vmax=1, cmap='gray')",
   "id": "e2a2c5f74b32a0bf",
   "outputs": [
    {
     "data": {
      "text/plain": [
       "<matplotlib.image.AxesImage at 0x30688ce50>"
      ]
     },
     "execution_count": 159,
     "metadata": {},
     "output_type": "execute_result"
    },
    {
     "data": {
      "text/plain": [
       "<Figure size 640x480 with 1 Axes>"
      ],
      "image/png": "[encoded data removed]"
     },
     "metadata": {},
     "output_type": "display_data"
    }
   ],
   "execution_count": 159
  },
  {
   "metadata": {
    "ExecuteTime": {
     "end_time": "2024-11-13T16:10:47.989901Z",
     "start_time": "2024-11-13T16:10:47.987908Z"
    }
   },
   "cell_type": "code",
   "source": "",
   "id": "12122020602a8e85",
   "outputs": [],
   "execution_count": null
  },
  {
   "metadata": {
    "ExecuteTime": {
     "end_time": "2024-11-13T16:11:22.712143Z",
     "start_time": "2024-11-13T16:11:22.706657Z"
    }
   },
   "cell_type": "code",
   "source": [
    "h_edge_filter = np.asarray([\n",
    "    [-1, -1, -1],\n",
    "    [0, 0, 0],\n",
    "    [1, 1, 1]\n",
    "])"
   ],
   "id": "ba7efe34eb4b6667",
   "outputs": [],
   "execution_count": 160
  },
  {
   "metadata": {
    "ExecuteTime": {
     "end_time": "2024-11-13T16:11:37.312224Z",
     "start_time": "2024-11-13T16:11:37.282255Z"
    }
   },
   "cell_type": "code",
   "source": "h_edge_img = convolve(img, h_edge_filter)",
   "id": "8dfc0d72459435b0",
   "outputs": [],
   "execution_count": 161
  },
  {
   "metadata": {
    "ExecuteTime": {
     "end_time": "2024-11-13T16:11:53.187331Z",
     "start_time": "2024-11-13T16:11:53.101542Z"
    }
   },
   "cell_type": "code",
   "source": "imshow(h_edge_img, vmin=0, vmax=1, cmap='gray')",
   "id": "57ca9f13ef7bac8c",
   "outputs": [
    {
     "data": {
      "text/plain": [
       "<matplotlib.image.AxesImage at 0x30695b110>"
      ]
     },
     "execution_count": 163,
     "metadata": {},
     "output_type": "execute_result"
    },
    {
     "data": {
      "text/plain": [
       "<Figure size 640x480 with 1 Axes>"
      ],
      "image/png": "[encoded data removed]"
     },
     "metadata": {},
     "output_type": "display_data"
    }
   ],
   "execution_count": 163
  },
  {
   "metadata": {
    "ExecuteTime": {
     "end_time": "2024-11-13T16:55:57.194837Z",
     "start_time": "2024-11-13T16:55:57.147518Z"
    }
   },
   "cell_type": "code",
   "source": "first_image, _ = train_data[0]",
   "id": "c289cda38d0f54b6",
   "outputs": [],
   "execution_count": 165
  },
  {
   "metadata": {
    "ExecuteTime": {
     "end_time": "2024-11-13T16:56:00.208822Z",
     "start_time": "2024-11-13T16:56:00.186462Z"
    }
   },
   "cell_type": "code",
   "source": "first_image",
   "id": "ba2ef467b21eb92d",
   "outputs": [
    {
     "data": {
      "text/plain": [
       "<PIL.Image.Image image mode=L size=28x28>"
      ],
      "image/png": "[encoded data removed]",
      "image/jpeg": "[encoded data removed]"
     },
     "execution_count": 166,
     "metadata": {},
     "output_type": "execute_result"
    }
   ],
   "execution_count": 166
  },
  {
   "metadata": {
    "ExecuteTime": {
     "end_time": "2024-11-13T16:56:22.588649Z",
     "start_time": "2024-11-13T16:56:22.534263Z"
    }
   },
   "cell_type": "code",
   "source": "first_image_tensor = image_to_tensor(first_image)",
   "id": "631e3e7654d7a1e2",
   "outputs": [],
   "execution_count": 168
  },
  {
   "metadata": {
    "ExecuteTime": {
     "end_time": "2024-11-13T16:56:33.063654Z",
     "start_time": "2024-11-13T16:56:33.053829Z"
    }
   },
   "cell_type": "code",
   "source": "first_image_tensor.shape",
   "id": "867e79ef851af264",
   "outputs": [
    {
     "data": {
      "text/plain": [
       "torch.Size([1, 28, 28])"
      ]
     },
     "execution_count": 170,
     "metadata": {},
     "output_type": "execute_result"
    }
   ],
   "execution_count": 170
  },
  {
   "metadata": {
    "ExecuteTime": {
     "end_time": "2024-11-13T16:56:47.992828Z",
     "start_time": "2024-11-13T16:56:47.981689Z"
    }
   },
   "cell_type": "code",
   "source": "first_image_tensor = first_image_tensor.unsqueeze(0)",
   "id": "8833b06352eca0",
   "outputs": [],
   "execution_count": 171
  },
  {
   "metadata": {
    "ExecuteTime": {
     "end_time": "2024-11-13T16:56:53.374174Z",
     "start_time": "2024-11-13T16:56:53.367041Z"
    }
   },
   "cell_type": "code",
   "source": "first_image_tensor.shape",
   "id": "190e373f3d20b245",
   "outputs": [
    {
     "data": {
      "text/plain": [
       "torch.Size([1, 1, 28, 28])"
      ]
     },
     "execution_count": 172,
     "metadata": {},
     "output_type": "execute_result"
    }
   ],
   "execution_count": 172
  },
  {
   "metadata": {
    "ExecuteTime": {
     "end_time": "2024-11-13T16:58:12.999267Z",
     "start_time": "2024-11-13T16:58:12.982525Z"
    }
   },
   "cell_type": "code",
   "source": [
    "blur_tensor = torch.tensor([\n",
    "    [1, 1, 1],\n",
    "    [1, 1, 1],\n",
    "    [1, 1, 1],\n",
    "], dtype=torch.float32) / 9.0"
   ],
   "id": "ba5dfe03d0fc8212",
   "outputs": [],
   "execution_count": 173
  },
  {
   "metadata": {
    "ExecuteTime": {
     "end_time": "2024-11-13T16:59:35.563158Z",
     "start_time": "2024-11-13T16:59:35.556249Z"
    }
   },
   "cell_type": "code",
   "source": "blur_tensor.shape",
   "id": "ddba3fe0193cded",
   "outputs": [
    {
     "data": {
      "text/plain": [
       "torch.Size([3, 3])"
      ]
     },
     "execution_count": 178,
     "metadata": {},
     "output_type": "execute_result"
    }
   ],
   "execution_count": 178
  },
  {
   "metadata": {
    "ExecuteTime": {
     "end_time": "2024-11-13T17:00:00.047535Z",
     "start_time": "2024-11-13T17:00:00.041764Z"
    }
   },
   "cell_type": "code",
   "source": "blur_tensor = blur_tensor.unsqueeze(0).unsqueeze(0)",
   "id": "7f03c05e743ae61d",
   "outputs": [],
   "execution_count": 181
  },
  {
   "metadata": {
    "ExecuteTime": {
     "end_time": "2024-11-13T17:00:00.622981Z",
     "start_time": "2024-11-13T17:00:00.616603Z"
    }
   },
   "cell_type": "code",
   "source": "blur_tensor.shape",
   "id": "43fc6294798da4e6",
   "outputs": [
    {
     "data": {
      "text/plain": [
       "torch.Size([1, 1, 3, 3])"
      ]
     },
     "execution_count": 182,
     "metadata": {},
     "output_type": "execute_result"
    }
   ],
   "execution_count": 182
  },
  {
   "metadata": {
    "ExecuteTime": {
     "end_time": "2024-11-13T17:00:27.726866Z",
     "start_time": "2024-11-13T17:00:27.709956Z"
    }
   },
   "cell_type": "code",
   "source": "import torch.nn.functional as F",
   "id": "7938f129624146b7",
   "outputs": [],
   "execution_count": 183
  },
  {
   "metadata": {
    "ExecuteTime": {
     "end_time": "2024-11-13T17:01:04.550873Z",
     "start_time": "2024-11-13T17:01:04.528372Z"
    }
   },
   "cell_type": "code",
   "source": "blurred_image = F.conv2d(first_image_tensor, blur_tensor, padding=1)",
   "id": "87dc27888db70467",
   "outputs": [],
   "execution_count": 185
  },
  {
   "metadata": {
    "ExecuteTime": {
     "end_time": "2024-11-13T17:02:05.107899Z",
     "start_time": "2024-11-13T17:02:05.029054Z"
    }
   },
   "cell_type": "code",
   "source": "imshow(first_image,  cmap='gray')",
   "id": "42751beed26a336a",
   "outputs": [
    {
     "data": {
      "text/plain": [
       "<matplotlib.image.AxesImage at 0x306b3e490>"
      ]
     },
     "execution_count": 188,
     "metadata": {},
     "output_type": "execute_result"
    },
    {
     "data": {
      "text/plain": [
       "<Figure size 640x480 with 1 Axes>"
      ],
      "image/png": "[encoded data removed]"
     },
     "metadata": {},
     "output_type": "display_data"
    }
   ],
   "execution_count": 188
  },
  {
   "metadata": {
    "ExecuteTime": {
     "end_time": "2024-11-13T17:01:32.239551Z",
     "start_time": "2024-11-13T17:01:32.144402Z"
    }
   },
   "cell_type": "code",
   "source": "imshow(blurred_image.squeeze(), cmap='gray')",
   "id": "29e40e85f880852",
   "outputs": [
    {
     "data": {
      "text/plain": [
       "<matplotlib.image.AxesImage at 0x30627fed0>"
      ]
     },
     "execution_count": 187,
     "metadata": {},
     "output_type": "execute_result"
    },
    {
     "data": {
      "text/plain": [
       "<Figure size 640x480 with 1 Axes>"
      ],
      "image/png": "[encoded data removed]"
     },
     "metadata": {},
     "output_type": "display_data"
    }
   ],
   "execution_count": 187
  },
  {
   "metadata": {
    "ExecuteTime": {
     "end_time": "2024-11-13T17:07:45.567993Z",
     "start_time": "2024-11-13T17:07:45.544407Z"
    }
   },
   "cell_type": "code",
   "source": [
    "edge_tensor = torch.tensor([\n",
    "    [-1, -1, -1],\n",
    "    [-1, 8, -1],\n",
    "    [-1, -1, -1],\n",
    "], dtype=torch.float32)"
   ],
   "id": "c2392af405979108",
   "outputs": [],
   "execution_count": 241
  },
  {
   "metadata": {
    "ExecuteTime": {
     "end_time": "2024-11-13T17:07:45.900571Z",
     "start_time": "2024-11-13T17:07:45.894428Z"
    }
   },
   "cell_type": "code",
   "source": "edge_tensor = edge_tensor.unsqueeze(0).unsqueeze(0)",
   "id": "faa41f9693857e55",
   "outputs": [],
   "execution_count": 242
  },
  {
   "metadata": {
    "ExecuteTime": {
     "end_time": "2024-11-13T17:07:46.825658Z",
     "start_time": "2024-11-13T17:07:46.820717Z"
    }
   },
   "cell_type": "code",
   "source": "edge_tensor.shape",
   "id": "b0843c6bc4d1a3a2",
   "outputs": [
    {
     "data": {
      "text/plain": [
       "torch.Size([1, 1, 3, 3])"
      ]
     },
     "execution_count": 243,
     "metadata": {},
     "output_type": "execute_result"
    }
   ],
   "execution_count": 243
  },
  {
   "metadata": {
    "ExecuteTime": {
     "end_time": "2024-11-13T17:08:10.917357Z",
     "start_time": "2024-11-13T17:08:10.909136Z"
    }
   },
   "cell_type": "code",
   "source": "edged_image = F.conv2d(first_image_tensor, edge_tensor, padding=1, dilation=1)",
   "id": "6e325d1d39fdc739",
   "outputs": [],
   "execution_count": 254
  },
  {
   "metadata": {
    "ExecuteTime": {
     "end_time": "2024-11-13T19:51:26.729777Z",
     "start_time": "2024-11-13T19:51:26.478252Z"
    }
   },
   "cell_type": "code",
   "source": "imshow(edged_image.squeeze(), vmin=0, vmax=1, cmap='gray')",
   "id": "549bb5462c670eca",
   "outputs": [
    {
     "data": {
      "text/plain": [
       "<matplotlib.image.AxesImage at 0x307488990>"
      ]
     },
     "execution_count": 256,
     "metadata": {},
     "output_type": "execute_result"
    },
    {
     "data": {
      "text/plain": [
       "<Figure size 640x480 with 1 Axes>"
      ],
      "image/png": "[encoded data removed]"
     },
     "metadata": {},
     "output_type": "display_data"
    }
   ],
   "execution_count": 256
  },
  {
   "metadata": {},
   "cell_type": "markdown",
   "source": "## Autograd",
   "id": "6b6685521909fbd9"
  },
  {
   "metadata": {
    "ExecuteTime": {
     "end_time": "2024-11-13T19:58:15.079443Z",
     "start_time": "2024-11-13T19:58:15.061722Z"
    }
   },
   "cell_type": "code",
   "source": "x = torch.tensor([-3.5], requires_grad=True)",
   "id": "514f47b58c4c6307",
   "outputs": [],
   "execution_count": 273
  },
  {
   "metadata": {
    "ExecuteTime": {
     "end_time": "2024-11-13T19:58:15.554780Z",
     "start_time": "2024-11-13T19:58:15.550682Z"
    }
   },
   "cell_type": "code",
   "source": "x_cur = x.clone()",
   "id": "d9f55b8df39db793",
   "outputs": [],
   "execution_count": 274
  },
  {
   "metadata": {
    "ExecuteTime": {
     "end_time": "2024-11-13T19:58:16.104939Z",
     "start_time": "2024-11-13T19:58:16.094207Z"
    }
   },
   "cell_type": "code",
   "source": "x_prev = x_cur * 100",
   "id": "b1a1f2fd234cd319",
   "outputs": [],
   "execution_count": 275
  },
  {
   "metadata": {
    "ExecuteTime": {
     "end_time": "2024-11-13T19:58:16.679213Z",
     "start_time": "2024-11-13T19:58:16.672696Z"
    }
   },
   "cell_type": "code",
   "source": "eps = 1e-5",
   "id": "34d84c50bfbc1d21",
   "outputs": [],
   "execution_count": 276
  },
  {
   "metadata": {
    "ExecuteTime": {
     "end_time": "2024-11-13T19:58:17.019452Z",
     "start_time": "2024-11-13T19:58:17.014044Z"
    }
   },
   "cell_type": "code",
   "source": "lr = 0.1",
   "id": "76138797eace14b3",
   "outputs": [],
   "execution_count": 277
  },
  {
   "metadata": {
    "ExecuteTime": {
     "end_time": "2024-11-13T19:58:17.344929Z",
     "start_time": "2024-11-13T19:58:17.334935Z"
    }
   },
   "cell_type": "code",
   "source": [
    "def f(x):\n",
    "    return (x - 2) ** 2"
   ],
   "id": "f4b22fe8c95f3",
   "outputs": [],
   "execution_count": 278
  },
  {
   "metadata": {
    "ExecuteTime": {
     "end_time": "2024-11-13T19:58:17.730411Z",
     "start_time": "2024-11-13T19:58:17.700246Z"
    }
   },
   "cell_type": "code",
   "source": [
    "while torch.linalg.norm(x_cur - x_prev) > eps:\n",
    "    x_prev = x_cur.clone()\n",
    "    \n",
    "    value = f(x)\n",
    "    \n",
    "    value.backward()\n",
    "    x.data -= lr * x.grad\n",
    "    \n",
    "    x.grad.zero_()\n",
    "    \n",
    "    x_cur = x.data"
   ],
   "id": "1b52d22647c134a3",
   "outputs": [],
   "execution_count": 279
  },
  {
   "metadata": {
    "ExecuteTime": {
     "end_time": "2024-11-13T19:58:18.243339Z",
     "start_time": "2024-11-13T19:58:18.233387Z"
    }
   },
   "cell_type": "code",
   "source": "print(x_cur)",
   "id": "ee0b447bb8b9f22",
   "outputs": [
    {
     "name": "stdout",
     "output_type": "stream",
     "text": [
      "tensor([2.0000])\n"
     ]
    }
   ],
   "execution_count": 280
  },
  {
   "metadata": {},
   "cell_type": "markdown",
   "source": "## Optimizers",
   "id": "bbbf2f6f16da375"
  },
  {
   "metadata": {
    "ExecuteTime": {
     "end_time": "2024-11-13T20:07:41.055365Z",
     "start_time": "2024-11-13T20:07:41.004829Z"
    }
   },
   "cell_type": "code",
   "source": "x_param = torch.nn.Parameter(torch.tensor([-3.5]), requires_grad=True)",
   "id": "a4739a94d1969870",
   "outputs": [],
   "execution_count": 281
  },
  {
   "metadata": {
    "ExecuteTime": {
     "end_time": "2024-11-13T20:07:48.486595Z",
     "start_time": "2024-11-13T20:07:48.446014Z"
    }
   },
   "cell_type": "code",
   "source": "optimizer = torch.optim.SGD([x_param], lr=lr)",
   "id": "21258ef241cb0cff",
   "outputs": [],
   "execution_count": 282
  },
  {
   "metadata": {
    "ExecuteTime": {
     "end_time": "2024-11-13T20:09:26.612762Z",
     "start_time": "2024-11-13T20:09:26.595382Z"
    }
   },
   "cell_type": "code",
   "source": [
    "for epoch in range(60):\n",
    "    optimizer.zero_grad()\n",
    "    loss_incurred = f(x_param)\n",
    "    loss_incurred.backward()\n",
    "    step = optimizer.step()"
   ],
   "id": "7532e8b0fccc868c",
   "outputs": [],
   "execution_count": 288
  },
  {
   "metadata": {
    "ExecuteTime": {
     "end_time": "2024-11-13T20:09:27.196263Z",
     "start_time": "2024-11-13T20:09:27.191427Z"
    }
   },
   "cell_type": "code",
   "source": "print(x_param.data)",
   "id": "2fac05f401f4f532",
   "outputs": [
    {
     "name": "stdout",
     "output_type": "stream",
     "text": [
      "tensor([2.0000])\n"
     ]
    }
   ],
   "execution_count": 289
  },
  {
   "metadata": {},
   "cell_type": "code",
   "outputs": [],
   "execution_count": null,
   "source": "",
   "id": "42738ee00c6266ec"
  }
 ],
 "metadata": {
  "kernelspec": {
   "display_name": "Python 3",
   "language": "python",
   "name": "python3"
  },
  "language_info": {
   "codemirror_mode": {
    "name": "ipython",
    "version": 2
   },
   "file_extension": ".py",
   "mimetype": "text/x-python",
   "name": "python",
   "nbconvert_exporter": "python",
   "pygments_lexer": "ipython2",
   "version": "2.7.6"
  }
 },
 "nbformat": 4,
 "nbformat_minor": 5
}
